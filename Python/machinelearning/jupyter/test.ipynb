{
 "cells": [
  {
   "cell_type": "code",
   "execution_count": 1,
   "metadata": {},
   "outputs": [
    {
     "name": "stdout",
     "output_type": "stream",
     "text": [
      "score mean:  20.0\n",
      "score standard deviation:  8.16496580927726\n",
      "score mean:  0.0\n",
      "score standard deviation:  1.0\n"
     ]
    }
   ],
   "source": [
    "scores = [10, 20, 30]\n",
    "n_student = len(scores)\n",
    "mean = (scores[0] + scores[1] + scores[2])/n_student\n",
    "square_of_mean=mean**2 #평균의 제곰\n",
    "mean_of_square = (scores[0]**2 + scores[1]**2 + scores[2]**2)/n_student # 제곱의 평균\n",
    "\n",
    "variance = mean_of_square - square_of_mean # MOS - SOM\n",
    "std = variance**0.5 # square root of the variance\n",
    "\n",
    "print(\"score mean: \", mean)\n",
    "print(\"score standard deviation: \", std)\n",
    "\n",
    "scores[0] = (scores[0] - mean)/std\n",
    "scores[1] = (scores[1] - mean)/std\n",
    "scores[2] = (scores[2] - mean)/std\n",
    "\n",
    "mean = (scores[0] + scores[1] + scores[2])/n_student\n",
    "square_of_mean=mean**2 #평균의 제곰\n",
    "mean_of_square = (scores[0]**2 + scores[1]**2 + scores[2]**2)/n_student # 제곱의 평균\n",
    "\n",
    "variance = mean_of_square - square_of_mean # MOS - SOM\n",
    "std = variance**0.5 # square root of the variance\n",
    "\n",
    "print(\"score mean: \", mean)\n",
    "print(\"score standard deviation: \", std)"
   ]
  }
 ],
 "metadata": {
  "interpreter": {
   "hash": "898d768e6b948f5c0755b6194ba569d0e2096d11bf3365ab800dccedbbb8bf63"
  },
  "kernelspec": {
   "display_name": "Python 3.8.5 ('venv': venv)",
   "language": "python",
   "name": "python3"
  },
  "language_info": {
   "codemirror_mode": {
    "name": "ipython",
    "version": 3
   },
   "file_extension": ".py",
   "mimetype": "text/x-python",
   "name": "python",
   "nbconvert_exporter": "python",
   "pygments_lexer": "ipython3",
   "version": "3.8.5"
  },
  "orig_nbformat": 4
 },
 "nbformat": 4,
 "nbformat_minor": 2
}
