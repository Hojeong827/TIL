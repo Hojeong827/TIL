{
 "cells": [
  {
   "cell_type": "code",
   "execution_count": null,
   "metadata": {},
   "outputs": [],
   "source": [
    "scores = [10, 20, 30]\n",
    "n_student = len(scores)\n",
    "mean = (scores[0] + scores[1] + scores[2])/n_student\n",
    "square_of_mean=mean**2 #평균의 제곰\n",
    "mean_of_square = (scores[0]**2 + scores[1]**2 + scores[2]**2)/n_student # 제곱의 평균\n",
    "\n",
    "variance = mean_of_square - square_of_mean # MOS - SOM\n",
    "std = variance**0.5 # square root of the variance\n",
    "\n",
    "print(\"score mean: \", mean)\n",
    "print(\"score standard deviation: \", std)\n",
    "\n",
    "scores[0] = (scores[0] - mean)/std\n",
    "scores[1] = (scores[1] - mean)/std\n",
    "scores[2] = (scores[2] - mean)/std\n",
    "\n",
    "mean = (scores[0] + scores[1] + scores[2])/n_student\n",
    "square_of_mean=mean**2 #평균의 제곰\n",
    "mean_of_square = (scores[0]**2 + scores[1]**2 + scores[2]**2)/n_student # 제곱의 평균\n",
    "\n",
    "variance = mean_of_square - square_of_mean # MOS - SOM\n",
    "std = variance**0.5 # square root of the variance\n",
    "\n",
    "print(\"score mean: \", mean)\n",
    "print(\"score standard deviation: \", std)"
   ]
  }
 ],
 "metadata": {
  "interpreter": {
   "hash": "898d768e6b948f5c0755b6194ba569d0e2096d11bf3365ab800dccedbbb8bf63"
  },
  "kernelspec": {
   "display_name": "Python 3.8.5 ('venv': venv)",
   "language": "python",
   "name": "python3"
  },
  "language_info": {
   "name": "python",
   "version": "3.8.5"
  },
  "orig_nbformat": 4
 },
 "nbformat": 4,
 "nbformat_minor": 2
}
